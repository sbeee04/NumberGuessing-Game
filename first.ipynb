{
  "nbformat": 4,
  "nbformat_minor": 0,
  "metadata": {
    "colab": {
      "name": "first.ipynb",
      "provenance": [],
      "authorship_tag": "ABX9TyPigR91ADpr7rX+O/p4fhZg",
      "include_colab_link": true
    },
    "kernelspec": {
      "name": "python3",
      "display_name": "Python 3"
    },
    "language_info": {
      "name": "python"
    }
  },
  "cells": [
    {
      "cell_type": "markdown",
      "metadata": {
        "id": "view-in-github",
        "colab_type": "text"
      },
      "source": [
        "<a href=\"https://colab.research.google.com/github/sbeee04/NumberGuessing-Game/blob/main/first.ipynb\" target=\"_parent\"><img src=\"https://colab.research.google.com/assets/colab-badge.svg\" alt=\"Open In Colab\"/></a>"
      ]
    },
    {
      "cell_type": "code",
      "metadata": {
        "colab": {
          "base_uri": "https://localhost:8080/"
        },
        "id": "9GrdO5D3GP6o",
        "outputId": "54d80ac3-8ce5-48ae-d83b-0f54e3017bcc"
      },
      "source": [
        "pip install phonenumbers\n"
      ],
      "execution_count": null,
      "outputs": [
        {
          "output_type": "stream",
          "text": [
            "Collecting phonenumbers\n",
            "\u001b[?25l  Downloading https://files.pythonhosted.org/packages/02/59/db30ccaf2d932b778afa8130129a2913ab2c5c9ac6fb04a9fce74f79ca34/phonenumbers-8.12.20-py2.py3-none-any.whl (2.6MB)\n",
            "\u001b[K     |████████████████████████████████| 2.6MB 6.2MB/s \n",
            "\u001b[?25hInstalling collected packages: phonenumbers\n",
            "Successfully installed phonenumbers-8.12.20\n"
          ],
          "name": "stdout"
        }
      ]
    },
    {
      "cell_type": "code",
      "metadata": {
        "colab": {
          "base_uri": "https://localhost:8080/"
        },
        "id": "CTWwv1dEGdOd",
        "outputId": "fb45377f-1a3d-40b1-8268-b4ba16515bd3"
      },
      "source": [
        "import phonenumbers\n",
        "number=\"+919043671711\"\n",
        "\n",
        "#from test import number\n",
        "\n",
        "from phonenumbers import geocoder\n",
        "ch_nmber=phonenumbers.parse(number,\"CH\")\n",
        "print(geocoder.description_for_number(ch_nmber,\"en\"))\n",
        "\n",
        "from phonenumbers import carrier\n",
        "service_nmber=phonenumbers.parse(number,\"RO\")\n",
        "print(carrier.name_for_number(service_nmber,\"en\"))\n"
      ],
      "execution_count": null,
      "outputs": [
        {
          "output_type": "stream",
          "text": [
            "India\n",
            "Tata Docomo\n"
          ],
          "name": "stdout"
        }
      ]
    },
    {
      "cell_type": "code",
      "metadata": {
        "colab": {
          "base_uri": "https://localhost:8080/"
        },
        "id": "JpkKbEBBIpb3",
        "outputId": "30472482-b07e-4a88-99e7-31902e1299b7"
      },
      "source": [
        "a=int(input(\"ENTER THE FIRST NUMBER \"))\n",
        "b=int(input(\"ENTER THE SECOND NUMBER \"))\n",
        "print(a+b)\n"
      ],
      "execution_count": null,
      "outputs": [
        {
          "output_type": "stream",
          "text": [
            "ENTER THE FIRST NUMBER 10\n",
            "ENTER THE SECOND NUMBER 10\n",
            "20\n"
          ],
          "name": "stdout"
        }
      ]
    },
    {
      "cell_type": "code",
      "metadata": {
        "id": "61nWggkzJFhh"
      },
      "source": [
        ""
      ],
      "execution_count": null,
      "outputs": []
    }
  ]
}